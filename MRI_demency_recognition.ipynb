{
 "cells": [
  {
   "cell_type": "markdown",
   "metadata": {},
   "source": [
    "The underlying dataset contains MRI images of 260 cases in dicom format with 15-18 slices for each case and a xlsx containing patient information pertaining to the images.\n",
    "This notebook aims to build a CNN which is able to classify the images into 'has demency' or 'has no demency'.\n"
   ]
  },
  {
   "cell_type": "code",
   "execution_count": 1,
   "metadata": {},
   "outputs": [],
   "source": [
    "import pydicom\n",
    "import numpy as np\n",
    "import pandas as pd\n",
    "from PIL import Image\n",
    "import tensorflow as tf\n",
    "from tensorflow.keras.datasets import mnist\n",
    "from tensorflow.keras.models import Sequential\n",
    "from tensorflow.keras.layers import Dense, Dropout, Conv2D, MaxPooling2D, Flatten\n",
    "from tensorflow.keras.optimizers import RMSprop\n",
    "import matplotlib.pyplot as plt\n",
    "import os\n",
    "from tensorflow.keras.preprocessing.image import ImageDataGenerator\n",
    "#read in xlsx data\n",
    "df = pd.read_excel(r'C:\\Users\\dontknowVP\\Desktop\\denis_patrick_clowns\\IBMB_Dataset_true_false.xlsx', index_col=0)"
   ]
  },
  {
   "cell_type": "code",
   "execution_count": 2,
   "metadata": {},
   "outputs": [],
   "source": [
    "# Set Seed value for reproducable results\n",
    "# Apparently you may use different seed values at each stage\n",
    "seed_value= 0\n",
    "\n",
    "# 1. Set `PYTHONHASHSEED` environment variable at a fixed value\n",
    "import os\n",
    "os.environ['PYTHONHASHSEED']=str(seed_value)\n",
    "\n",
    "# 2. Set `python` built-in pseudo-random generator at a fixed value\n",
    "import random\n",
    "random.seed(seed_value)\n",
    "\n",
    "# 3. Set `numpy` pseudo-random generator at a fixed value\n",
    "import numpy as np\n",
    "np.random.seed(seed_value)\n",
    "\n",
    "# 4. Set the `tensorflow` pseudo-random generator at a fixed value\n",
    "import tensorflow as tf\n",
    "tf.random.set_seed(seed_value)\n",
    "# for later versions: \n",
    "# tf.compat.v1.set_random_seed(seed_value)\n"
   ]
  },
  {
   "cell_type": "code",
   "execution_count": 3,
   "metadata": {},
   "outputs": [],
   "source": [
    "#settings\n",
    "layer=10 #use layer 11, as layer 11 contains the highest amount of white matters if demency "
   ]
  },
  {
   "cell_type": "markdown",
   "metadata": {},
   "source": [
    "### data preperation\n",
    "read in dicom data\n",
    "\n",
    "sort the mri image layers \n",
    "\n",
    "drop images with 15 layers, as there are only 6 patients with 15 layers\n",
    "\n",
    "shuffle data\n",
    "\n",
    "reshape data\n",
    "\n",
    "divide into train and test images and labels\n",
    "\n",
    "apply ImageDataGenerator"
   ]
  },
  {
   "cell_type": "code",
   "execution_count": 4,
   "metadata": {},
   "outputs": [],
   "source": [
    "#read in data\n",
    "#set patient data\n",
    "#set global data (all patient)\n",
    "#data[0] contains patient0 all images\n",
    "#data[0][0] contains patient 0 image 0\n",
    "\n",
    "\n",
    "data=[]\n",
    "\n",
    "global_path=r'C:\\Users\\dontknowVP\\Desktop\\denis_patrick_clowns\\IBMB Dataset'\n",
    "for dirname in os.listdir(global_path):\n",
    "    if dirname.endswith(\"\") : \n",
    "        path=global_path+'\\\\' + dirname\n",
    "        \n",
    "        dirname=os.listdir(path)[0]\n",
    "        path=path+'\\\\' + dirname\n",
    "        dirname=os.listdir(path)[0]\n",
    "        path=path+'\\\\' + dirname\n",
    "        patient_data=[]\n",
    "        for filename in os.listdir(path):\n",
    "            file_dirname=path+'\\\\'+filename\n",
    "            patient_data.append(pydicom.read_file(file_dirname))\n",
    "        data.append(patient_data)\n",
    "        \n",
    "        \n"
   ]
  },
  {
   "cell_type": "code",
   "execution_count": 5,
   "metadata": {},
   "outputs": [],
   "source": [
    "def show_image(image):\n",
    "\n",
    "    plt.title('Sample: %d  Label: %d' % (2, 1))\n",
    "    plt.imshow(image, cmap=plt.get_cmap('gray_r'))\n",
    "    plt.show()\n",
    "   "
   ]
  },
  {
   "cell_type": "code",
   "execution_count": 6,
   "metadata": {
    "scrolled": false
   },
   "outputs": [
    {
     "name": "stdout",
     "output_type": "stream",
     "text": [
      "length of data: 254\n",
      "0 0 0 253\n"
     ]
    }
   ],
   "source": [
    "# sort MRI image layers\n",
    "# add demency level\n",
    "\n",
    "for i in range(len(data)):\n",
    "    for x in range(len(data[i])):\n",
    "        data[i].sort(key=lambda y: y.InstanceNumber, reverse=False)\n",
    "        data[i][x].pvwm=df['PVWM'][int(str(data[i][x].PatientName))]\n",
    "        data[i][x].age=df[\"Patient's Age\"][int(str(data[i][x].PatientName))]\n",
    "\n",
    "    \n",
    "#drop images with 15 layers\n",
    "data.pop(18)  \n",
    "data.pop(123)\n",
    "data.pop(156) \n",
    "data.pop(183)\n",
    "data.pop(227) \n",
    "data.pop(239)  \n",
    "\n",
    "\n",
    "counter_15=0\n",
    "counter_16=0\n",
    "counter_17=0\n",
    "counter_18=0\n",
    "print('length of data:',len(data))\n",
    "#check images for number of layers\n",
    "\n",
    "for i in range(len(data)):\n",
    "    if(len(data[i])==15):\n",
    "        counter_15=counter_15+1\n",
    "        print(i)\n",
    "    if(len(data[i])==16):\n",
    "        counter_16=counter_16+1\n",
    "    if(len(data[i])==17):\n",
    "        counter_17=counter_17+1\n",
    "    if(len(data[i])==18):\n",
    "        counter_18=counter_18+1    \n",
    "\n",
    "print(counter_15,counter_16,counter_17,counter_18)    \n",
    "\n",
    "\n",
    "len_data= len(data)"
   ]
  },
  {
   "cell_type": "code",
   "execution_count": 7,
   "metadata": {},
   "outputs": [
    {
     "name": "stdout",
     "output_type": "stream",
     "text": [
      "254\n"
     ]
    }
   ],
   "source": [
    "print(len(data))"
   ]
  },
  {
   "cell_type": "code",
   "execution_count": 8,
   "metadata": {},
   "outputs": [
    {
     "name": "stdout",
     "output_type": "stream",
     "text": [
      "980500221101\n",
      "980503341101\n"
     ]
    }
   ],
   "source": [
    "  \n",
    "#shuffle data\n",
    "print(data[0][7].PatientName)\n",
    "import random\n",
    "random.seed(64)\n",
    "from random import shuffle \n",
    "shuffle(data)\n",
    "print(data[0][7].PatientName)\n",
    "\n",
    "#max columns: 224"
   ]
  },
  {
   "cell_type": "code",
   "execution_count": 9,
   "metadata": {},
   "outputs": [],
   "source": [
    "#playground cell\n"
   ]
  },
  {
   "cell_type": "code",
   "execution_count": 10,
   "metadata": {
    "scrolled": true
   },
   "outputs": [
    {
     "name": "stdout",
     "output_type": "stream",
     "text": [
      "(256, 224)\n"
     ]
    }
   ],
   "source": [
    "#reshape and split into training/test data\n",
    "#M1 only\n",
    "M1_images=[]\n",
    "\n",
    "for i in range(len(data)):\n",
    "    M1_images.append(data[i][layer]) \n",
    "    \n",
    "\n",
    "all_images=np.array([])\n",
    "all_images2=np.array([])\n",
    "all_images3=np.array([])\n",
    "all_images4=np.array([])\n",
    "all_classes=np.array([])\n",
    "classes_array=[]\n",
    "images_array=[]\n",
    "new_pixel_array=np.array([])\n",
    "counter=0\n",
    "for i in M1_images:\n",
    "    diff=224-i.pixel_array.shape[1]      #add pixels of value 0 --> all iamges shape (256,224)\n",
    "    z = np.zeros((256,diff))      \n",
    "    add_to_array_array=np.append(i.pixel_array, z, axis=1).reshape(1,256,224)    \n",
    "    add_to_array_array[0][0][0]=i.age\n",
    "    if counter==0:\n",
    "        all_images=add_to_array_array\n",
    "    else:\n",
    "        all_images=np.append(all_images, add_to_array_array, axis=0)\n",
    "    classes_array.append(i.pvwm)\n",
    "    counter=counter+1\n",
    "    \n",
    "\n",
    "print(all_images[0].shape)    \n",
    "all_classes=np.array(classes_array)\n",
    "\n",
    "\n",
    "\n",
    "train_images = all_images[:173]\n",
    "test_images = all_images[173:]\n",
    "train_classes = all_classes[:173]\n",
    "test_classes = all_classes[173:]\n",
    "\n",
    "#256,224 reshape\n",
    "train_images = train_images.reshape(train_images.shape[0], 256, 224,1)\n",
    "test_images = test_images.reshape(test_images.shape[0], 256, 224,1)\n",
    "train_classes = tf.keras.utils.to_categorical(train_classes, 2)\n",
    "test_classes = tf.keras.utils.to_categorical(test_classes, 2)\n",
    "\n",
    "\n",
    "\n",
    "\n",
    "\n",
    "\n",
    "\n",
    "\n",
    "\n",
    "\n",
    "train_images=train_images.astype('float32')\n",
    "train_images/=255\n",
    "test_images=test_images.astype('float32')\n",
    "test_images/=255\n",
    "\n",
    "# fits the model on batches with real-time data augmentation:\n",
    "datagen = ImageDataGenerator(\n",
    "    featurewise_center=False,\n",
    "    featurewise_std_normalization=False,\n",
    "    rotation_range=5,\n",
    "    #brightness_range=(0.95, 1),\n",
    "    shear_range=0.1, #0.\n",
    "    width_shift_range=0.3,\n",
    "    height_shift_range=0.05,\n",
    "    vertical_flip=True)\n",
    "\n",
    "datagen.fit(train_images)"
   ]
  },
  {
   "cell_type": "markdown",
   "metadata": {},
   "source": [
    "### modelling\n",
    "build CNN\n",
    "\n",
    "apply CNN on training data"
   ]
  },
  {
   "cell_type": "code",
   "execution_count": 11,
   "metadata": {},
   "outputs": [],
   "source": [
    "#CNN\n",
    "input_shape=(256, 224,1)\n",
    "model = Sequential()\n",
    "model.add(Conv2D(16, (3, 3),activation=('relu'),input_shape=input_shape))\n",
    "model.add(MaxPooling2D(pool_size=(2, 2)))\n",
    "\n",
    "model.add(Conv2D(16, (3, 3),activation=('relu'))) \n",
    "model.add(MaxPooling2D(pool_size=(2, 2))) \n",
    "\n",
    "model.add(Conv2D(16, (3, 3),activation=('relu')))\n",
    "model.add(MaxPooling2D(pool_size=(2, 2)))\n",
    "model.add(Dropout(0.2))\n",
    "\n",
    "model.add(Flatten())\n",
    "model.add(Dense(1000,activation=('relu')))\n",
    "model.add(Dropout(0.2))\n",
    "model.add(Dense(1000,activation=('relu')))\n",
    "model.add(Dropout(0.2))\n",
    "model.add(Dense(2,activation=('softmax')))\n",
    "\n",
    "model.compile(loss='categorical_crossentropy',optimizer='adam',metrics=['accuracy'])\n",
    "\n"
   ]
  },
  {
   "cell_type": "code",
   "execution_count": null,
   "metadata": {},
   "outputs": [],
   "source": []
  },
  {
   "cell_type": "code",
   "execution_count": 12,
   "metadata": {},
   "outputs": [
    {
     "name": "stdout",
     "output_type": "stream",
     "text": [
      "Model: \"sequential\"\n",
      "_________________________________________________________________\n",
      "Layer (type)                 Output Shape              Param #   \n",
      "=================================================================\n",
      "conv2d (Conv2D)              (None, 254, 222, 16)      160       \n",
      "_________________________________________________________________\n",
      "max_pooling2d (MaxPooling2D) (None, 127, 111, 16)      0         \n",
      "_________________________________________________________________\n",
      "conv2d_1 (Conv2D)            (None, 125, 109, 16)      2320      \n",
      "_________________________________________________________________\n",
      "max_pooling2d_1 (MaxPooling2 (None, 62, 54, 16)        0         \n",
      "_________________________________________________________________\n",
      "conv2d_2 (Conv2D)            (None, 60, 52, 16)        2320      \n",
      "_________________________________________________________________\n",
      "max_pooling2d_2 (MaxPooling2 (None, 30, 26, 16)        0         \n",
      "_________________________________________________________________\n",
      "dropout (Dropout)            (None, 30, 26, 16)        0         \n",
      "_________________________________________________________________\n",
      "flatten (Flatten)            (None, 12480)             0         \n",
      "_________________________________________________________________\n",
      "dense (Dense)                (None, 1000)              12481000  \n",
      "_________________________________________________________________\n",
      "dropout_1 (Dropout)          (None, 1000)              0         \n",
      "_________________________________________________________________\n",
      "dense_1 (Dense)              (None, 1000)              1001000   \n",
      "_________________________________________________________________\n",
      "dropout_2 (Dropout)          (None, 1000)              0         \n",
      "_________________________________________________________________\n",
      "dense_2 (Dense)              (None, 2)                 2002      \n",
      "=================================================================\n",
      "Total params: 13,488,802\n",
      "Trainable params: 13,488,802\n",
      "Non-trainable params: 0\n",
      "_________________________________________________________________\n"
     ]
    }
   ],
   "source": [
    "model.summary()"
   ]
  },
  {
   "cell_type": "code",
   "execution_count": null,
   "metadata": {},
   "outputs": [],
   "source": []
  },
  {
   "cell_type": "code",
   "execution_count": null,
   "metadata": {},
   "outputs": [
    {
     "data": {
      "image/png": "[encoded data removed]",
      "text/plain": [
       "<Figure size 432x288 with 1 Axes>"
      ]
     },
     "metadata": {
      "needs_background": "light"
     },
     "output_type": "display_data"
    },
    {
     "name": "stdout",
     "output_type": "stream",
     "text": [
      "WARNING:tensorflow:sample_weight modes were coerced from\n",
      "  ...\n",
      "    to  \n",
      "  ['...']\n",
      "Train for 18 steps, validate on 81 samples\n",
      "Epoch 1/500\n",
      "18/18 - 3s - loss: 0.7131 - accuracy: 0.4971 - val_loss: 0.6911 - val_accuracy: 0.4568\n",
      "Epoch 2/500\n",
      "18/18 - 2s - loss: 0.6927 - accuracy: 0.4509 - val_loss: 0.6895 - val_accuracy: 0.4568\n",
      "Epoch 3/500\n",
      "18/18 - 2s - loss: 0.6881 - accuracy: 0.5318 - val_loss: 0.6752 - val_accuracy: 0.6790\n",
      "Epoch 4/500\n",
      "18/18 - 2s - loss: 0.6811 - accuracy: 0.6185 - val_loss: 0.6965 - val_accuracy: 0.4568\n",
      "Epoch 5/500\n",
      "18/18 - 2s - loss: 0.6752 - accuracy: 0.5838 - val_loss: 0.6493 - val_accuracy: 0.6914\n",
      "Epoch 6/500\n",
      "18/18 - 2s - loss: 0.6781 - accuracy: 0.5549 - val_loss: 0.6626 - val_accuracy: 0.5802\n",
      "Epoch 7/500\n",
      "18/18 - 2s - loss: 0.6828 - accuracy: 0.5838 - val_loss: 0.6608 - val_accuracy: 0.6296\n",
      "Epoch 8/500\n",
      "18/18 - 2s - loss: 0.6929 - accuracy: 0.5723 - val_loss: 0.6496 - val_accuracy: 0.5926\n",
      "Epoch 9/500\n",
      "18/18 - 2s - loss: 0.6940 - accuracy: 0.5087 - val_loss: 0.6597 - val_accuracy: 0.5926\n",
      "Epoch 10/500\n",
      "18/18 - 2s - loss: 0.6863 - accuracy: 0.5434 - val_loss: 0.6515 - val_accuracy: 0.7284\n",
      "Epoch 11/500\n",
      "18/18 - 2s - loss: 0.6889 - accuracy: 0.5491 - val_loss: 0.6478 - val_accuracy: 0.6173\n",
      "Epoch 12/500\n",
      "18/18 - 2s - loss: 0.6956 - accuracy: 0.5434 - val_loss: 0.6498 - val_accuracy: 0.7284\n",
      "Epoch 13/500\n",
      "18/18 - 2s - loss: 0.6712 - accuracy: 0.6358 - val_loss: 0.6075 - val_accuracy: 0.7778\n",
      "Epoch 14/500\n",
      "18/18 - 2s - loss: 0.6440 - accuracy: 0.6763 - val_loss: 0.6068 - val_accuracy: 0.6667\n",
      "Epoch 15/500\n",
      "18/18 - 2s - loss: 0.6779 - accuracy: 0.5838 - val_loss: 0.6017 - val_accuracy: 0.7778\n",
      "Epoch 16/500\n",
      "18/18 - 2s - loss: 0.6474 - accuracy: 0.6012 - val_loss: 0.5744 - val_accuracy: 0.7901\n",
      "Epoch 17/500\n",
      "18/18 - 2s - loss: 0.6380 - accuracy: 0.6474 - val_loss: 0.5718 - val_accuracy: 0.6790\n",
      "Epoch 18/500\n",
      "18/18 - 2s - loss: 0.6490 - accuracy: 0.6416 - val_loss: 0.5574 - val_accuracy: 0.7407\n",
      "Epoch 19/500\n",
      "18/18 - 2s - loss: 0.6596 - accuracy: 0.5954 - val_loss: 0.5241 - val_accuracy: 0.7654\n",
      "Epoch 20/500\n",
      "18/18 - 2s - loss: 0.6309 - accuracy: 0.6532 - val_loss: 0.4968 - val_accuracy: 0.7901\n",
      "Epoch 21/500\n",
      "18/18 - 2s - loss: 0.6683 - accuracy: 0.6185 - val_loss: 0.5406 - val_accuracy: 0.7778\n",
      "Epoch 22/500\n",
      "18/18 - 2s - loss: 0.6325 - accuracy: 0.6532 - val_loss: 0.5228 - val_accuracy: 0.7654\n",
      "Epoch 23/500\n",
      "18/18 - 2s - loss: 0.6454 - accuracy: 0.6590 - val_loss: 0.5467 - val_accuracy: 0.7160\n",
      "Epoch 24/500\n",
      "18/18 - 2s - loss: 0.6394 - accuracy: 0.6474 - val_loss: 0.5637 - val_accuracy: 0.6296\n",
      "Epoch 25/500\n",
      "18/18 - 2s - loss: 0.6390 - accuracy: 0.6243 - val_loss: 0.5046 - val_accuracy: 0.7531\n",
      "Epoch 26/500\n"
     ]
    }
   ],
   "source": [
    "show_image(all_images[0])\n",
    "\n",
    "model.compile(loss='categorical_crossentropy',\n",
    "              optimizer='adam',\n",
    "              metrics=['accuracy'])\n",
    "\n",
    "\n",
    "history = model.fit(datagen.flow(train_images, train_classes,\n",
    "                    batch_size=10) ,#50\n",
    "                    epochs=500,\n",
    "                    verbose=2,\n",
    "                    validation_data=(test_images, test_classes))\n",
    "print('MRI LAYER: ', layer+1)\n",
    "\n",
    "score = model.evaluate(test_images, test_classes, verbose=0)\n",
    "print(\"Test loss: \", score[0])\n",
    "print(\"Test acc: \", score[1])"
   ]
  },
  {
   "cell_type": "markdown",
   "metadata": {},
   "source": [
    "### Evaluation"
   ]
  },
  {
   "cell_type": "code",
   "execution_count": null,
   "metadata": {},
   "outputs": [],
   "source": [
    "score = model.evaluate(test_images, test_classes, verbose=0)\n",
    "print(\"Test loss: \", score[0])\n",
    "print(\"Test acc: \", score[1])"
   ]
  },
  {
   "cell_type": "code",
   "execution_count": null,
   "metadata": {
    "scrolled": false
   },
   "outputs": [],
   "source": [
    "\n",
    "for patient_number in range(190,240):\n",
    "    reshaped_img=all_images_concat[patient_number].reshape(1,256,224,1)\n",
    "    \n",
    "\n",
    "    show_image(all_images_concat[patient_number])\n",
    "    print('observation:',all_classes[patient_number])\n",
    "    print('prediction',model.predict(reshaped_img))"
   ]
  },
  {
   "cell_type": "code",
   "execution_count": null,
   "metadata": {},
   "outputs": [],
   "source": []
  }
 ],
 "metadata": {
  "kernelspec": {
   "display_name": "Python 3",
   "language": "python",
   "name": "python3"
  },
  "language_info": {
   "codemirror_mode": {
    "name": "ipython",
    "version": 3
   },
   "file_extension": ".py",
   "mimetype": "text/x-python",
   "name": "python",
   "nbconvert_exporter": "python",
   "pygments_lexer": "ipython3",
   "version": "3.7.7"
  }
 },
 "nbformat": 4,
 "nbformat_minor": 4
}
